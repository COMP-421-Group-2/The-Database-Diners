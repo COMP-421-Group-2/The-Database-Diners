{
 "cells": [
  {
   "cell_type": "code",
   "execution_count": 1,
   "metadata": {},
   "outputs": [],
   "source": [
    "# # Use this the first time setting up the conda environment\n",
    "# !pip install mysql-connector-python\n",
    "# !pip install pymysql\n",
    "# !pip install ipython-sql pymysql\n",
    "# !pip install cryptography\n",
    "\n",
    "import pymysql\n",
    "import pandas as pd\n",
    "import hashlib\n",
    "import csv"
   ]
  },
  {
   "cell_type": "code",
   "execution_count": 2,
   "metadata": {},
   "outputs": [],
   "source": [
    "### Fill in your user data\n",
    "user_info = {\n",
    "    'username': 'rysch01',\n",
    "    'password': 'SQLP4ssword1!'\n",
    "}"
   ]
  },
  {
   "cell_type": "code",
   "execution_count": null,
   "metadata": {},
   "outputs": [
    {
     "name": "stdout",
     "output_type": "stream",
     "text": [
      "pid,first_name,last_name,meal_balance,to_go_boxes_remaining,role,password_hash\n",
      "\n",
      "item_id,item_name,calories_per_serving,meal_type,available_date, price\n",
      "\n",
      "transaction_id,pid,item_id,transaction_type,transaction_date\n",
      "\n"
     ]
    }
   ],
   "source": [
    "\n",
    "# Connect to the MySQL serve\n",
    "db = pymysql.connect(\n",
    "    host='localhost',    \n",
    "    user=user_info['username'],\n",
    "    password=user_info['password'],\n",
    ")\n",
    "\n",
    "cursor = db.cursor()\n",
    "\n",
    "try: # try to use database; if so, it's already loaded\n",
    "    cursor.execute(\"USE cafeteria\")\n",
    "except: # if not, need to load it in next\n",
    "    cursor.execute('CREATE DATABASE cafeteria;')\n",
    "    cursor.execute(\"USE cafeteria\")\n",
    "    ### Define the students table\n",
    "    declare_students='''\n",
    "    CREATE TABLE Students (\n",
    "        pid INT PRIMARY KEY,\n",
    "        first_name VARCHAR(255),\n",
    "        last_name VARCHAR(255),\n",
    "        meal_balance DECIMAL(8, 2),\n",
    "        to_go_boxes_remaining INT,\n",
    "        password_hash CHAR(64),\n",
    "        role CHAR(8)\n",
    "    );\n",
    "    '''\n",
    "\n",
    "    ### Define the menu table\n",
    "    declare_menu='''\n",
    "    CREATE TABLE Menu (\n",
    "        item_id INT PRIMARY KEY,\n",
    "        item_name VARCHAR(255),\n",
    "        calories_per_serving INT,\n",
    "        meal_type CHAR(64),\n",
    "        available_date DATE,\n",
    "        price DECIMAL(8, 2)\n",
    "    );\n",
    "    '''\n",
    "\n",
    "    ### Define the transactions table\n",
    "    declare_transactions='''\n",
    "    CREATE TABLE Transactions (\n",
    "        transaction_id INT PRIMARY KEY,\n",
    "        pid INT,\n",
    "        item_id INT,\n",
    "        transaction_type VARCHAR(50),\n",
    "        transaction_date DATE,\n",
    "        FOREIGN KEY (pid) REFERENCES Students(pid),\n",
    "        FOREIGN KEY (item_id) REFERENCES Menu(item_id)\n",
    "    );\n",
    "    '''\n",
    "\n",
    "\n",
    "    cursor.execute(declare_students)\n",
    "    cursor.execute(declare_menu)\n",
    "    cursor.execute(declare_transactions)\n",
    "    db.commit()\n",
    "\n",
    "\n",
    "    with open('students.csv') as file:\n",
    "        headers=next(file)\n",
    "        headers=headers.split(',')\n",
    "        headers=[h.strip() for h in headers]\n",
    "        reader=csv.reader(file) \n",
    "        info_list=[]\n",
    "        for r in reader:\n",
    "            r[-1]=hashlib.sha256(r[-1].encode()).hexdigest()\n",
    "            # I think we weren't supposed to construct the string this way but cannot remember\n",
    "            cursor.execute(f'INSERT INTO Students ({\", \".join(headers)}) VALUES (%s, %s, %s, %s, %s, %s, %s)', r)\n",
    "\n",
    "    \n",
    "    with open('menu.csv') as file:\n",
    "        headers=next(file)\n",
    "        headers=headers.split(',')\n",
    "        headers=[h.strip() for h in headers]\n",
    "        reader=csv.reader(file) \n",
    "        info_list=[]\n",
    "        for r in reader:\n",
    "            # I think we weren't supposed to construct the string this way but cannot remember\n",
    "            cursor.execute(f'INSERT INTO Menu ({\", \".join(headers)}) VALUES (%s, %s, %s, %s, %s, %s)', r)\n",
    "\n",
    "    with open('transactions.csv') as file:\n",
    "        headers=next(file)\n",
    "        headers=headers.split(',')\n",
    "        headers=[h.strip() for h in headers]\n",
    "        reader=csv.reader(file) \n",
    "        info_list=[]\n",
    "        for r in reader:\n",
    "            # I think we weren't supposed to construct the string this way but cannot remember\n",
    "            cursor.execute(f'INSERT INTO Transactions ({\", \".join(headers)}) VALUES (%s, %s, %s, %s, %s)', r)\n",
    "\n",
    "    db.commit()"
   ]
  },
  {
   "cell_type": "code",
   "execution_count": null,
   "metadata": {},
   "outputs": [
    {
     "name": "stdout",
     "output_type": "stream",
     "text": [
      "((1, 'Pasta Primavera', 450, 'lunch', datetime.date(2024, 11, 12), Decimal('11.00')), (2, 'Grilled Chicken Sandwich', 600, 'dinner', datetime.date(2024, 11, 12), Decimal('8.00')), (3, 'Oatmeal', 150, 'breakfast', datetime.date(2024, 11, 12), Decimal('5.00')), (4, 'Vegan Burrito Bowl', 500, 'lunch', datetime.date(2024, 11, 13), Decimal('9.00')), (5, 'Omelette', 600, 'Breakfast', datetime.date(2024, 11, 12), Decimal('8.00')))\n"
     ]
    }
   ],
   "source": [
    "# ## Insert Query Example\n",
    "# new_item_details = (5, 'Omelette', 600, 'Breakfast', '2024-11-12', 8.00)\n",
    "# cursor.execute('INSERT INTO Menu (item_id, item_name, calories_per_serving, meal_type, available_date, price) VALUES (%s, %s, %s, %s, %s, %s);', new_item_details)\n",
    "# db.commit()\n",
    "\n",
    "# ## Select Query Example\n",
    "# cursor.execute('SELECT * FROM Menu')\n",
    "# result = cursor.fetchall()\n",
    "# print(result)"
   ]
  },
  {
   "cell_type": "code",
   "execution_count": null,
   "metadata": {},
   "outputs": [],
   "source": [
    "### Be sure to close at the end\n",
    "db.close()"
   ]
  }
 ],
 "metadata": {
  "kernelspec": {
   "display_name": "Python 3",
   "language": "python",
   "name": "python3"
  },
  "language_info": {
   "codemirror_mode": {
    "name": "ipython",
    "version": 3
   },
   "file_extension": ".py",
   "mimetype": "text/x-python",
   "name": "python",
   "nbconvert_exporter": "python",
   "pygments_lexer": "ipython3",
   "version": "3.11.9"
  }
 },
 "nbformat": 4,
 "nbformat_minor": 2
}
